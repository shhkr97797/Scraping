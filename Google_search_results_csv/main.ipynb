{
 "cells": [
  {
   "cell_type": "code",
   "execution_count": 1,
   "metadata": {},
   "outputs": [],
   "source": [
    "from selenium import webdriver\n",
    "from time import sleep\n",
    "import csv\n",
    "import datetime\n",
    "\n",
    "#ヘッドレスモード（ブラウザを立ち上げず処理する）の記述\n",
    "from selenium.webdriver.chrome.options import Options\n",
    "options = Options()\n",
    "options.add_argument(\"--headless\")"
   ]
  },
  {
   "cell_type": "code",
   "execution_count": 2,
   "metadata": {},
   "outputs": [],
   "source": [
    "#ヘッドレスモードの場合は引数にインスタンスを渡す\n",
    "DRIVER = webdriver.Chrome('C:\\\\Users\\kanetaka\\chromedriver.exe', options=options)\n",
    "DRIVER.get(\"https://www.google.com/\")"
   ]
  },
  {
   "cell_type": "code",
   "execution_count": 3,
   "metadata": {},
   "outputs": [],
   "source": [
    "#検索バーに文字を入力し、検索ボタンを押す\n",
    "serch_bar = DRIVER.find_element_by_name(\"q\")\n",
    "serch_bar.send_keys(\"Python\")\n",
    "serch_bar.submit()"
   ]
  },
  {
   "cell_type": "code",
   "execution_count": 4,
   "metadata": {},
   "outputs": [],
   "source": [
    "#csvファイルに日付をつける\n",
    "csv_date = datetime.datetime.today().strftime(\"%Y%m%d\")\n",
    "csv_file_name = csv_date + \"Google_Python\" + \".csv\" "
   ]
  },
  {
   "cell_type": "code",
   "execution_count": 5,
   "metadata": {},
   "outputs": [
    {
     "data": {
      "text/plain": [
       "14"
      ]
     },
     "execution_count": 5,
     "metadata": {},
     "output_type": "execute_result"
    }
   ],
   "source": [
    "#csvを開きヘッダーを書き込み\n",
    "open_file = open(csv_file_name, \"w\", encoding=\"shift_jis\", errors=\"ignore\")\n",
    "writer = csv.writer(open_file, lineterminator=\"\\n\")\n",
    "csv_header = [\"検索順位\", \"タイトル\", \"URL\"]\n",
    "writer.writerow(csv_header)"
   ]
  },
  {
   "cell_type": "code",
   "execution_count": 6,
   "metadata": {},
   "outputs": [],
   "source": [
    "count = 0\n",
    "ranking = 0\n",
    "while True:\n",
    "    count += 1\n",
    "    sleep(2)\n",
    "    \n",
    "    for elm in DRIVER.find_elements_by_xpath(\"//a/h3\"):\n",
    "        csv_list = []\n",
    "        csv_list.append(str(ranking))\n",
    "        csv_list.append(elm.text)\n",
    "\n",
    "        elm_href = elm.find_element_by_xpath(\"..\")\n",
    "        csv_list.append(elm_href.get_attribute(\"href\"))\n",
    "        writer.writerow(csv_list)\n",
    "        ranking += 1\n",
    "        \n",
    "\n",
    "    next_btn = DRIVER.find_element_by_id(\"pnnext\")\n",
    "    DRIVER.get(next_btn.get_attribute(\"href\"))\n",
    "    \n",
    "    if count >= 1:\n",
    "        break\n",
    "\n",
    "open_file.close()"
   ]
  },
  {
   "cell_type": "code",
   "execution_count": null,
   "metadata": {},
   "outputs": [],
   "source": []
  },
  {
   "cell_type": "code",
   "execution_count": null,
   "metadata": {},
   "outputs": [],
   "source": []
  },
  {
   "cell_type": "code",
   "execution_count": null,
   "metadata": {},
   "outputs": [],
   "source": []
  },
  {
   "cell_type": "code",
   "execution_count": null,
   "metadata": {},
   "outputs": [],
   "source": []
  },
  {
   "cell_type": "code",
   "execution_count": null,
   "metadata": {},
   "outputs": [],
   "source": []
  }
 ],
 "metadata": {
  "kernelspec": {
   "display_name": "Python 3",
   "language": "python",
   "name": "python3"
  },
  "language_info": {
   "codemirror_mode": {
    "name": "ipython",
    "version": 3
   },
   "file_extension": ".py",
   "mimetype": "text/x-python",
   "name": "python",
   "nbconvert_exporter": "python",
   "pygments_lexer": "ipython3",
   "version": "3.8.5"
  }
 },
 "nbformat": 4,
 "nbformat_minor": 4
}
